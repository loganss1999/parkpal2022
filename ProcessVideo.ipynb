{
 "cells": [
  {
   "cell_type": "code",
   "execution_count": 6,
   "id": "278e0ee8",
   "metadata": {},
   "outputs": [],
   "source": [
    "%matplotlib inline\n",
    "from nuscenes.nuscenes import NuScenes\n",
    "from numpy import ones,vstack,arctan\n",
    "from numpy.linalg import lstsq\n",
    "from math import sqrt,dist\n",
    "import SpaceDetector as det"
   ]
  },
  {
   "cell_type": "code",
   "execution_count": 2,
   "id": "a0b7dec1",
   "metadata": {},
   "outputs": [
    {
     "name": "stdout",
     "output_type": "stream",
     "text": [
      "======\n",
      "Loading NuScenes tables for version v1.0-trainval01_blobs...\n",
      "23 category,\n",
      "8 attribute,\n",
      "4 visibility,\n",
      "64386 instance,\n",
      "12 sensor,\n",
      "10200 calibrated_sensor,\n",
      "2631083 ego_pose,\n",
      "68 log,\n",
      "850 scene,\n",
      "34149 sample,\n",
      "2631083 sample_data,\n",
      "1166187 sample_annotation,\n",
      "4 map,\n",
      "Done loading in 40.785 seconds.\n",
      "======\n",
      "Reverse indexing ...\n",
      "Done reverse indexing in 9.1 seconds.\n",
      "======\n"
     ]
    }
   ],
   "source": [
    "nusc = NuScenes(version = 'v1.0-trainval01_blobs', dataroot=r'C:\\Users\\Stevens User\\bdd100k\\bdd100k\\data\\sets\\nuscenes')"
   ]
  },
  {
   "cell_type": "code",
   "execution_count": 4,
   "id": "9aa86d5a",
   "metadata": {},
   "outputs": [
    {
     "name": "stdout",
     "output_type": "stream",
     "text": [
      "Turn left, pass trucks on both sides, construction workers, sleeping construction workers, garbage, parked cars\n",
      "Turn left, people on both sides, parked vans\n",
      "Turn right, walking peds, pedestrian in blind spot in couple of frames, car park exit\n",
      "Overtake parked car, bus turning, motorcycle\n",
      "Taxi parked on road, bicycle rack, many peds, many jaywalkers, parked bicycles, ped exiting taxi, ped crossing traffic light, lane change, peds crossing crosswalk\n",
      "No traffic, dead end street, overtake parked truck\n",
      "Busy street, parked cars, parking lot, ped sitting at bus stop, motorcycle driving\n",
      "Parked cars, many peds, parked bicycles, trash can, parking lots\n",
      "Truck turns, parked cars, bump, bikes\n",
      "Full parking lot, peds, exiting from car park\n",
      "Construction, barriers behind net, parked trucks, excavators, turn left\n",
      "Narrow street, seveal peds, shadows, turn left, parked motorcycle\n",
      "Pass parked vehicles, peds, arrive at intersection\n",
      "Oncoming car in the same lane, overtake parked car, turn left\n",
      "Peds, nature, construction, trash can, parked truck, turn right\n",
      "Construction, strange cleaning vehicle parked on our lane\n"
     ]
    }
   ],
   "source": [
    "scenes = []\n",
    "\n",
    "for i in range(0, 60):\n",
    "    if nusc.log[i]['location'] == 'boston-seaport' and 'park' in nusc.scene[i]['description']:\n",
    "        print(nusc.scene[i]['description'])\n",
    "        scenes.append(nusc.scene[i])"
   ]
  },
  {
   "cell_type": "code",
   "execution_count": 7,
   "id": "01e923ab",
   "metadata": {},
   "outputs": [
    {
     "name": "stdout",
     "output_type": "stream",
     "text": [
      "[323.109, 996.664, 344.221, 1046.518]\n",
      "Line Solution is y = 2.36140583554376x + 233.6725218832911\n",
      "[[4.177, 324.758, 1000.912], [5.134, 327.235, 1007.076], [5.403, 330.188, 1013.597], [6.616, 333.338, 1020.844], [11.019, 337.278, 1030.87], [9.627, 341.993, 1041.689]]\n",
      "[282.4, 972.575, 344.221, 1046.518]\n",
      "Line Solution is y = 1.1960822374274167x + 634.8013761504969\n",
      "[[2.563, 283.062, 971.283], [97.212, 313.972, 1008.254]]\n",
      "[249.933, 924.113, 344.221, 1046.518]\n",
      "Line Solution is y = 1.2982033768878347x + 599.6491354042928\n",
      "[[57.189, 266.447, 948.009], [95.636, 313.591, 1009.211]]\n",
      "[665.941, 773.28, 671.436, 769.632]\n",
      "Line Solution is y = -0.6638762511373857x + 1215.382414558682\n"
     ]
    },
    {
     "ename": "IndexError",
     "evalue": "list index out of range",
     "output_type": "error",
     "traceback": [
      "\u001b[1;31m---------------------------------------------------------------------------\u001b[0m",
      "\u001b[1;31mIndexError\u001b[0m                                Traceback (most recent call last)",
      "Input \u001b[1;32mIn [7]\u001b[0m, in \u001b[0;36m<cell line: 1>\u001b[1;34m()\u001b[0m\n\u001b[0;32m     44\u001b[0m     lot \u001b[38;5;241m=\u001b[39m [xL,yL,xR,yR]\n\u001b[0;32m     45\u001b[0m     \u001b[38;5;28mprint\u001b[39m(lot)\n\u001b[1;32m---> 46\u001b[0m     spaces \u001b[38;5;241m=\u001b[39m \u001b[43mdet\u001b[49m\u001b[38;5;241;43m.\u001b[39;49m\u001b[43mfindSpace\u001b[49m\u001b[43m(\u001b[49m\u001b[43mnusc\u001b[49m\u001b[43m,\u001b[49m\u001b[43msample\u001b[49m\u001b[43m,\u001b[49m\u001b[43mxL\u001b[49m\u001b[43m,\u001b[49m\u001b[43myL\u001b[49m\u001b[43m,\u001b[49m\u001b[43mxR\u001b[49m\u001b[43m,\u001b[49m\u001b[43myR\u001b[49m\u001b[43m,\u001b[49m\u001b[38;5;241;43m0\u001b[39;49m\u001b[43m)\u001b[49m\n\u001b[0;32m     47\u001b[0m     \u001b[38;5;28mprint\u001b[39m(spaces)\n\u001b[0;32m     48\u001b[0m xL \u001b[38;5;241m=\u001b[39m this_car[\u001b[38;5;124m'\u001b[39m\u001b[38;5;124mtranslation\u001b[39m\u001b[38;5;124m'\u001b[39m][\u001b[38;5;241m0\u001b[39m]\n",
      "File \u001b[1;32m~\\Documents\\GitHub\\parkpal2022\\SpaceDetector.py:34\u001b[0m, in \u001b[0;36mfindSpace\u001b[1;34m(nusc, sample, xL, yL, xR, yR, orientation)\u001b[0m\n\u001b[0;32m     32\u001b[0m cars\u001b[38;5;241m.\u001b[39msort()\n\u001b[0;32m     33\u001b[0m spaces \u001b[38;5;241m=\u001b[39m []\n\u001b[1;32m---> 34\u001b[0m space \u001b[38;5;241m=\u001b[39m defineSpace(xL,yL,\u001b[43mcars\u001b[49m\u001b[43m[\u001b[49m\u001b[38;5;241;43m0\u001b[39;49m\u001b[43m]\u001b[49m[\u001b[38;5;241m0\u001b[39m],cars[\u001b[38;5;241m0\u001b[39m][\u001b[38;5;241m1\u001b[39m],\u001b[38;5;241m0\u001b[39m,cars[\u001b[38;5;241m0\u001b[39m][\u001b[38;5;241m2\u001b[39m])\n\u001b[0;32m     35\u001b[0m \u001b[38;5;28;01mif\u001b[39;00m(space[\u001b[38;5;241m0\u001b[39m] \u001b[38;5;241m>\u001b[39m \u001b[38;5;241m2.5\u001b[39m):\n\u001b[0;32m     36\u001b[0m     spaces\u001b[38;5;241m.\u001b[39mappend(space)\n",
      "\u001b[1;31mIndexError\u001b[0m: list index out of range"
     ]
    }
   ],
   "source": [
    "for scene in scenes:\n",
    "    first_token = scene['first_sample_token']\n",
    "    last_token = scene['last_sample_token']\n",
    "    nbr_samples = scene['nbr_samples']\n",
    "    current_token = first_token\n",
    "    \n",
    "    parkedCars = []\n",
    "    i = 0\n",
    "    while current_token != last_token:\n",
    "        sample = nusc.get('sample', current_token)\n",
    "        if i % 10 == 0:\n",
    "            #print('sample ' + str(i))\n",
    "            for ann in sample['anns']:\n",
    "                car = nusc.get('sample_annotation', ann)\n",
    "                if len(car['attribute_tokens']) > 0:\n",
    "                    attr = nusc.get('attribute', car['attribute_tokens'][0])['name']\n",
    "                    if attr == 'vehicle.parked':\n",
    "                        parkedCars.append([car['rotation'][0], ann])\n",
    "            \n",
    "            if len(parkedCars) > 3:\n",
    "                parkedCars.sort(key = lambda x: abs(x[0]))\n",
    "                #print(parkedCars)\n",
    "                first_car = parkedCars[0][1]\n",
    "                xL = nusc.get('sample_annotation', first_car)['translation'][0]\n",
    "                xR = xL\n",
    "                yL = nusc.get('sample_annotation', parkedCars[0][1])['translation'][1]\n",
    "                yR = yL\n",
    "                #find lots\n",
    "                k = 0\n",
    "                for j in range(len(parkedCars) - 1):\n",
    "                    this_car = nusc.get('sample_annotation', parkedCars[j][1])\n",
    "                    next_car = nusc.get('sample_annotation', parkedCars[j+1][1])\n",
    "                    #print(abs(abs(this_car['rotation'][0]) - abs(next_car['rotation'][0])))\n",
    "                    if abs(abs(this_car['rotation'][0]) - abs(next_car['rotation'][0])) < 0.03:\n",
    "                        if this_car['translation'][0] < xL:\n",
    "                            xL = this_car['translation'][0]\n",
    "                            yL = this_car['translation'][1]\n",
    "                        elif this_car['translation'][0] > xR:\n",
    "                            xR = this_car['translation'][0]\n",
    "                            yR = this_car['translation'][1]\n",
    "                        k += 1\n",
    "                    else:\n",
    "                        if k > 2:\n",
    "                            lot = [xL,yL,xR,yR]\n",
    "                            print(lot)\n",
    "                            spaces = det.findSpace(nusc,sample,xL,yL,xR,yR,0)\n",
    "                            print(spaces)\n",
    "                        xL = this_car['translation'][0]\n",
    "                        yL = this_car['translation'][1]\n",
    "                        xR = xL\n",
    "                        yR = yL\n",
    "                        k = 0\n",
    "                        \n",
    "                        \n",
    "                \n",
    "                \n",
    "                \n",
    "        current_token = sample['next']\n",
    "        i += 1"
   ]
  },
  {
   "cell_type": "code",
   "execution_count": 32,
   "id": "068b07d1",
   "metadata": {},
   "outputs": [
    {
     "ename": "ModuleNotFoundError",
     "evalue": "No module named 'GarbageCollect'",
     "output_type": "error",
     "traceback": [
      "\u001b[1;31m---------------------------------------------------------------------------\u001b[0m",
      "\u001b[1;31mModuleNotFoundError\u001b[0m                       Traceback (most recent call last)",
      "Input \u001b[1;32mIn [32]\u001b[0m, in \u001b[0;36m<cell line: 1>\u001b[1;34m()\u001b[0m\n\u001b[1;32m----> 1\u001b[0m \u001b[38;5;28;01mimport\u001b[39;00m \u001b[38;5;21;01mGarbageCollect\u001b[39;00m \u001b[38;5;28;01mas\u001b[39;00m \u001b[38;5;21;01mgc\u001b[39;00m\n\u001b[0;32m      2\u001b[0m gc\u001b[38;5;241m.\u001b[39mcollet()\n",
      "\u001b[1;31mModuleNotFoundError\u001b[0m: No module named 'GarbageCollect'"
     ]
    }
   ],
   "source": []
  }
 ],
 "metadata": {
  "kernelspec": {
   "display_name": "Python 3 (ipykernel)",
   "language": "python",
   "name": "python3"
  },
  "language_info": {
   "codemirror_mode": {
    "name": "ipython",
    "version": 3
   },
   "file_extension": ".py",
   "mimetype": "text/x-python",
   "name": "python",
   "nbconvert_exporter": "python",
   "pygments_lexer": "ipython3",
   "version": "3.10.4"
  }
 },
 "nbformat": 4,
 "nbformat_minor": 5
}
